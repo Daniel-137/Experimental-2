{
 "cells": [
  {
   "cell_type": "code",
   "execution_count": null,
   "metadata": {},
   "outputs": [],
   "source": []
  },
  {
   "cell_type": "markdown",
   "metadata": {},
   "source": [
    "## Límite Teorema Central – CLT\n",
    "\n",
    "\n",
    "Una teoría estadística que indica que le da un tamaño de muestra suficientemente grande de una población con un nivel finito de la varianza, la media de todas las muestras de la misma población será aproximadamente igual a la media de la población. Además, todas las muestras seguirá un patrón de distribución aproximadamente normal, con todas las variaciones de ser aproximadamente igual a la varianza de la población dividida por el tamaño de cada muestra.1 "
   ]
  },
  {
   "cell_type": "markdown",
   "metadata": {},
   "source": [
    "##\n",
    "(1) usamos los módulos de las librerías de Numpy y Matplotlib para abrir la imagen que vamos a procesar, la convertimos a una matriz y luego a escala de grises\n",
    "\n",
    "(2) Construimos una matriz de números aleatorios entre $[0.0,1.0]$ de las mismas dimensiones que la imagen inicial, la convertimos a escala de grises, y procedemos a construir la matriz de fase mediante (......) \n",
    "graficamos la matriz de números aleatorios\n",
    "\n",
    "(3)Multiplicamos la matriz de fase por la imagen original, y mediante el módulo de Numpy realizamos la transformada de furier a la matriz resultante\n",
    "\n",
    "(4) Debido a que mediante la librería de Matplotlib no permite graficar números complejos, (la matriz resultante de la transformada de fourier es una matriz compleja), debemos obtener entradas reales para poder realizar la graficación, obtenemos el módulo cuadrado de dicha matriz(la transformada de fourier) y procedemos a visualizarla.\n",
    "\n",
    "(5)"
   ]
  },
  {
   "cell_type": "code",
   "execution_count": null,
   "metadata": {},
   "outputs": [],
   "source": [
    "1. https://www.wikifx.info/sp/limite-teorema-central-clt/\n",
    "2. "
   ]
  }
 ],
 "metadata": {
  "kernelspec": {
   "display_name": "Python 2",
   "language": "python",
   "name": "python2"
  },
  "language_info": {
   "codemirror_mode": {
    "name": "ipython",
    "version": 2
   },
   "file_extension": ".py",
   "mimetype": "text/x-python",
   "name": "python",
   "nbconvert_exporter": "python",
   "pygments_lexer": "ipython2",
   "version": "2.7.14"
  }
 },
 "nbformat": 4,
 "nbformat_minor": 2
}
